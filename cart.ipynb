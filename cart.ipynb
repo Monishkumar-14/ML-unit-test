{
 "cells": [
  {
   "cell_type": "code",
   "execution_count": 1,
   "id": "4d60df33",
   "metadata": {},
   "outputs": [
    {
     "name": "stdout",
     "output_type": "stream",
     "text": [
      "CART Decision Tree:\n",
      "{'Age': {'Young': {'Student': {'No': 'No', 'Yes': 'Yes'}}, 'Middle-aged': 'Yes', 'Old': {'Credit': {'Fair': 'Yes', 'Excellent': 'No'}}}}\n"
     ]
    }
   ],
   "source": [
    "import pandas as pd\n",
    "\n",
    "data = {\n",
    "    'Age': ['Young', 'Young', 'Middle-aged', 'Old', 'Old', 'Old', 'Middle-aged', 'Young', 'Young', 'Old', 'Young', 'Middle-aged', 'Middle-aged', 'Old'],\n",
    "    'Income': ['High', 'High', 'High', 'Medium', 'Low', 'Low', 'Low', 'Medium', 'Low', 'Medium', 'Medium', 'Medium', 'High', 'Medium'],\n",
    "    'Student': ['No', 'No', 'No', 'No', 'Yes', 'Yes', 'Yes', 'No', 'Yes', 'Yes', 'Yes', 'No', 'Yes', 'No'],\n",
    "    'Credit': ['Fair', 'Excellent', 'Fair', 'Fair', 'Fair', 'Excellent', 'Excellent', 'Fair', 'Fair', 'Fair', 'Excellent', 'Excellent', 'Fair', 'Excellent'],\n",
    "    'BuysComputer': ['No', 'No', 'Yes', 'Yes', 'Yes', 'No', 'Yes', 'No', 'Yes', 'Yes', 'Yes', 'Yes', 'Yes', 'No']\n",
    "}\n",
    "\n",
    "df = pd.DataFrame(data)\n",
    "\n",
    "def gini_impurity(target_col):\n",
    "    counts = target_col.value_counts()\n",
    "    total = len(target_col)\n",
    "    impurity = 1\n",
    "    for count in counts:\n",
    "        p = count / total\n",
    "        impurity -= p ** 2\n",
    "    return impurity\n",
    "\n",
    "def weighted_gini(data, split_attribute, target_name):\n",
    "    total_len = len(data)\n",
    "    vals = data[split_attribute].unique()\n",
    "    weighted_impurity = 0\n",
    "    for val in vals:\n",
    "        subset = data[data[split_attribute] == val]\n",
    "        weighted_impurity += (len(subset) / total_len) * gini_impurity(subset[target_name])\n",
    "    return weighted_impurity\n",
    "\n",
    "def best_split(data, features, target_name):\n",
    "    best_gini = 1\n",
    "    best_feature = None\n",
    "    for feature in features:\n",
    "        gini = weighted_gini(data, feature, target_name)\n",
    "        if gini < best_gini:\n",
    "            best_gini = gini\n",
    "            best_feature = feature\n",
    "    return best_feature\n",
    "\n",
    "def majority_class(data, target_name):\n",
    "    return data[target_name].mode()[0]\n",
    "\n",
    "def cart(data, originaldata, features, target_name, parent_class=None):\n",
    "    if len(data[target_name].unique()) == 1:\n",
    "        return data[target_name].iloc[0]\n",
    "\n",
    "    elif len(data) == 0:\n",
    "        return majority_class(originaldata, target_name)\n",
    "\n",
    "    elif len(features) == 0:\n",
    "        return parent_class\n",
    "\n",
    "    else:\n",
    "        parent_class = majority_class(data, target_name)\n",
    "        best_feature = best_split(data, features, target_name)\n",
    "        tree = {best_feature: {}}\n",
    "\n",
    "        for value in data[best_feature].unique():\n",
    "            sub_data = data[data[best_feature] == value]\n",
    "            new_features = [f for f in features if f != best_feature]\n",
    "            subtree = cart(sub_data, data, new_features, target_name, parent_class)\n",
    "            tree[best_feature][value] = subtree\n",
    "\n",
    "        return tree\n",
    "\n",
    "features = list(df.columns[:-1])\n",
    "target = 'BuysComputer'\n",
    "decision_tree = cart(df, df, features, target)\n",
    "\n",
    "print(\"CART Decision Tree:\")\n",
    "print(decision_tree)\n"
   ]
  }
 ],
 "metadata": {
  "kernelspec": {
   "display_name": "base",
   "language": "python",
   "name": "python3"
  },
  "language_info": {
   "codemirror_mode": {
    "name": "ipython",
    "version": 3
   },
   "file_extension": ".py",
   "mimetype": "text/x-python",
   "name": "python",
   "nbconvert_exporter": "python",
   "pygments_lexer": "ipython3",
   "version": "3.12.7"
  }
 },
 "nbformat": 4,
 "nbformat_minor": 5
}
